{
 "cells": [
  {
   "cell_type": "code",
   "execution_count": 1,
   "metadata": {},
   "outputs": [
    {
     "name": "stdout",
     "output_type": "stream",
     "text": [
      "40\n"
     ]
    }
   ],
   "source": [
    "# Task 1\n",
    "# Problem 1.1 Python Program to implement own myreduce() function\n",
    "\n",
    "from functools import *\n",
    "def myreduce_v1(fun,seq):\n",
    "    out=seq[0]\n",
    "    for ele in seq[1:]:\n",
    "        out=fun(out,ele)\n",
    "    return out\n",
    "l=[1,2,3,4,6,7,8,9]\n",
    "#s={1,8}\n",
    "res=myreduce_v1(lambda x,y:x+y,l)\n",
    "#res=reduce(lambda x,y:x+y,l)\n",
    "print(res)"
   ]
  },
  {
   "cell_type": "code",
   "execution_count": 2,
   "metadata": {},
   "outputs": [
    {
     "name": "stdout",
     "output_type": "stream",
     "text": [
      "[2, 4, 6]\n",
      "[2, 4, 6]\n"
     ]
    }
   ],
   "source": [
    "# Task 1\n",
    "# Problem 1.2 Python Program to implement own myfilter() function\n",
    "\n",
    "l=[1,2,5,4,3,9,6,7]\n",
    "result=list(filter(lambda x:x%2==0,l))\n",
    "print(result)\n",
    "def myfilter(fun,seq):\n",
    "    for ele in seq:\n",
    "        if(fun(ele)==True):\n",
    "            yield ele\n",
    "result1=list(myfilter(lambda x:x%2==0,l))\n",
    "print(result1)"
   ]
  },
  {
   "cell_type": "code",
   "execution_count": 8,
   "metadata": {},
   "outputs": [
    {
     "name": "stdout",
     "output_type": "stream",
     "text": [
      "['A', 'C', 'A', 'D', 'G', 'I', 'L', 'D']\n",
      "['x', 'xx', 'xxx', 'xxxx', 'y', 'yy', 'yyy', 'yyyy', 'z', 'zz', 'zzz', 'zzzz']\n",
      "['x', 'y', 'z', 'xx', 'yy', 'zz', 'xxx', 'yyy', 'zzz', 'xxxx', 'yyyy', 'zzzz']\n",
      "[[2], [3], [4], [3], [4], [5], [4], [5], [6]]\n",
      "[[2, 3, 4, 5], [3, 4, 5, 6], [4, 5, 6, 7], [5, 6, 7, 8]]\n",
      "[(1, 1), (2, 1), (3, 1), (1, 2), (2, 2), (3, 2), (1, 3), (2, 3), (3, 3)]\n"
     ]
    }
   ],
   "source": [
    "# Task 1:\n",
    "# Problem 2: Implement List comprehensions to produce the following lists\n",
    "\n",
    "new_list = []\n",
    "\n",
    "for list in 'ACADGILD':\n",
    "    new_list.append(list)\n",
    "    \n",
    "print(new_list)\n",
    "list1 = ['x','y','z']\n",
    "l1_result = [x*i for x in list1 for i in range(1,5)]\n",
    "print(l1_result)\n",
    "#for x in list1:\n",
    "    #for i in range(1,5):\n",
    "        #print(x*i)\n",
    "l2_result = [x*i for i in range(1,5) for x in list1]\n",
    "print(l2_result)\n",
    "#for i in range(1,5):\n",
    "    #for x in list1:\n",
    "       # print(x*i)\n",
    "l3_result = [[i+x] for x in range (3) for i in range(2,5)]\n",
    "print(l3_result)\n",
    "#for i in range(2,5):\n",
    "    #for x in range (3):\n",
    "        #print(i+x,end=\" \")\n",
    "l4_result = [[i+x for x in range(4)] for i in range(2,6)]\n",
    "print(l4_result)\n",
    "#for i in range(2,6):\n",
    "    #for x in range(4):\n",
    "        #print(x+i, end=\" \")\n",
    "l5_result = [(j,i) for i in range(1,4) for j in range (1,4)]\n",
    "print(l5_result)\n",
    "#for i in range (1,4):\n",
    "    #for j in range (1,4):\n",
    "        #print(j,i,end=\"  \")"
   ]
  },
  {
   "cell_type": "code",
   "execution_count": 9,
   "metadata": {},
   "outputs": [
    {
     "name": "stdout",
     "output_type": "stream",
     "text": [
      "lasdkfjlijdsfk\n"
     ]
    }
   ],
   "source": [
    "# Task 1:\n",
    "# Problem 3: Implement a function longestWord() that takes a list of words and returns the longest one\n",
    "\n",
    "l=['xx', 'xy', \"lasdkfjlijdsfk\", \"jalskdfj\"]\n",
    "def longest_word(listt):\n",
    "    longestword=\"\"\n",
    "    temp=0\n",
    "    for x in listt:\n",
    "        if len(x)>temp:\n",
    "            temp=len(x)\n",
    "            longestword=x\n",
    "    return longestword\n",
    "print(longest_word(l))"
   ]
  },
  {
   "cell_type": "code",
   "execution_count": 10,
   "metadata": {},
   "outputs": [
    {
     "name": "stdout",
     "output_type": "stream",
     "text": [
      "65.0\n",
      "533.2682251925386\n"
     ]
    }
   ],
   "source": [
    "#Task 2:\n",
    "#problem 1.1: Python Program(with class concepts) to find the area of the triangle\n",
    "\n",
    "\n",
    "class Parent:\n",
    "    def __init__(self,a,b,c):\n",
    "        self.a=a\n",
    "        self.b=b\n",
    "        self.c=c\n",
    "class Child(Parent):\n",
    "    def area(self):\n",
    "        s=0.5*(self.a+self.b+self.c)\n",
    "        print(s)\n",
    "        area=(s*(s-self.a)*(s-self.b)*(s-self.c)) ** 0.5\n",
    "        print(area)\n",
    "c=Child(30,40,60)\n",
    "c.area()"
   ]
  },
  {
   "cell_type": "code",
   "execution_count": 11,
   "metadata": {},
   "outputs": [
    {
     "name": "stdout",
     "output_type": "stream",
     "text": [
      "['aaskdlfjlkdsx', 'abcsgsdde']\n"
     ]
    }
   ],
   "source": [
    "#Task 2:\n",
    "#problem 1.2:\n",
    "\n",
    "l=[\"a\",\"aaskdlfjlkdsx\",\"ad\",\"abcsgsdde\"]\n",
    "l1=[]\n",
    "def filter_long_words(lwords,n):\n",
    "    for ele in lwords:\n",
    "        if(len(ele)>n):\n",
    "            l1.append(ele)\n",
    "filter_long_words(l,2)\n",
    "print(l1)"
   ]
  },
  {
   "cell_type": "code",
   "execution_count": 1,
   "metadata": {},
   "outputs": [
    {
     "name": "stdout",
     "output_type": "stream",
     "text": [
      "[2, 3, 4]\n"
     ]
    }
   ],
   "source": [
    "# Task 2:\n",
    "# Program 2.1 Finding length of each word from list using map\n",
    "\n",
    "l = ['ab','cde',\"erty\"]\n",
    "l1 = list(map(lambda x:len(x),l))\n",
    "print(l1)"
   ]
  },
  {
   "cell_type": "code",
   "execution_count": 2,
   "metadata": {},
   "outputs": [
    {
     "name": "stdout",
     "output_type": "stream",
     "text": [
      "False\n"
     ]
    }
   ],
   "source": [
    "# Task 2\n",
    "# Program 2.2: Write a Python function which takes a character (i.e. a string of length 1) and returns True if it is a vowel, False otherwise\n",
    "\n",
    "def returnvowel(s):\n",
    "    vowels=['a','e','i','o','u']\n",
    "    if len(s)==1:\n",
    "        if s in l :\n",
    "            return True \n",
    "        else:\n",
    "            return False \n",
    "    else:\n",
    "        print(\"Invalid Input \")\n",
    "print(returnvowel('x'))"
   ]
  },
  {
   "cell_type": "code",
   "execution_count": null,
   "metadata": {},
   "outputs": [],
   "source": []
  }
 ],
 "metadata": {
  "kernelspec": {
   "display_name": "Python 3",
   "language": "python",
   "name": "python3"
  },
  "language_info": {
   "codemirror_mode": {
    "name": "ipython",
    "version": 3
   },
   "file_extension": ".py",
   "mimetype": "text/x-python",
   "name": "python",
   "nbconvert_exporter": "python",
   "pygments_lexer": "ipython3",
   "version": "3.7.3"
  }
 },
 "nbformat": 4,
 "nbformat_minor": 2
}
